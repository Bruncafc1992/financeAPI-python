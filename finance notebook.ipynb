{
 "cells": [
  {
   "cell_type": "markdown",
   "id": "b94605e9",
   "metadata": {},
   "source": [
    "# Finance Notebook\n",
    "Un proyecto de zerotohero\n",
    "\n",
    "Construcción de una aplicación para el manejo automatizado de un portafolio fianciero."
   ]
  },
  {
   "cell_type": "markdown",
   "id": "97d51e64",
   "metadata": {},
   "source": [
    "##### Paqueterías"
   ]
  },
  {
   "cell_type": "code",
   "execution_count": 82,
   "id": "80df61a6",
   "metadata": {},
   "outputs": [],
   "source": [
    "import numpy as np\n",
    "import pandas as pd\n",
    "# manejo de dato\n",
    "import seaborn as sns\n",
    "import matplotlib.pyplot as plt\n",
    "# manipulación de gráficas\n",
    "import yfinance as yf\n",
    "# interacción con API de yahoo finance"
   ]
  },
  {
   "cell_type": "markdown",
   "id": "a4a93ad0",
   "metadata": {},
   "source": [
    "#### Construcción de clase Portafolio"
   ]
  },
  {
   "cell_type": "code",
   "execution_count": 90,
   "id": "13eb9f0c",
   "metadata": {},
   "outputs": [],
   "source": [
    "class Portafolio:\n",
    "    \n",
    "    def __init__(self, inputs):\n",
    "        \n",
    "        # Leer parámetros\n",
    "        self.inputs = inputs\n",
    "        print(f\"Portafolio - {inputs['portfolio_name']} - activo\")\n",
    "        \n",
    "        # Descargar automáticamente los ticks\n",
    "        self.ticks = {}\n",
    "        self.download_ticks()\n",
    "            \n",
    "    # descripción de la clase\n",
    "    def __repr__(self):\n",
    "        return 'Portafolio Inteligente para la Manipulación de Activos Financieros.'\n",
    "    \n",
    "    # mostrar información de los ticks del portafolio\n",
    "    def show_ticks(self):\n",
    "        for i in range(len(self.inputs['ticks'])):\n",
    "            tick_name = self.inputs['ticks'][i]\n",
    "            print(f\"{i+1} - {tick_name}\")\n",
    "            \n",
    "    # descarga lista de ticks establecida en inputs\n",
    "    def download_ticks(self):\n",
    "        for tick in self.inputs['ticks']:\n",
    "            t = yf.Ticker(tick)\n",
    "            self.ticks[tick] = t\n",
    "    \n",
    "    # grafica timeseries de tick específico\n",
    "    def tick_value(self, tick):\n",
    "        data = self.ticks[tick].history(period = 'YTD')\n",
    "        plt.figure(figsize = (8, 6))\n",
    "        plt.title(f\"{tick} -- YTD Historical Close Values\")\n",
    "        plt.plot(data.index, data['Close'])\n",
    "        plt.show()\n",
    "        \n",
    "    # grafica timeseries de todos los ticks del portafolio   \n",
    "    def ticks_values(self):\n",
    "        plt.figure(figsize = (12, 8))\n",
    "        plt.title(f\"Portfolio Ticks - YTD Historical timeseries\")\n",
    "        for tick in self.ticks:\n",
    "            data = self.ticks[tick].history(period = 'YTD')\n",
    "            plt.plot(data.index, data['Close'], label=tick)\n",
    "        plt.legend()\n",
    "        plt.show()\n",
    "        \n",
    "    # grafica timeseries rendimiento específico   \n",
    "    def tick_return(self, tick):\n",
    "        data = self.ticks[tick].history(period = 'YTD')\n",
    "        data['returns'] = data['Close'].pct_change()\n",
    "        plt.figure(figsize = (8, 6))\n",
    "        plt.title(f\"{tick} -- YTD Historical Returns\")\n",
    "        plt.plot(data.index, data['returns'])\n",
    "        plt.show()\n",
    "        \n",
    "    # grafica returns de todos los ticks del portafolio\n",
    "    def ticks_returns(self):\n",
    "        plt.figure(figsize = (12, 8))\n",
    "        plt.title(f\"Portfolio Ticks - YTD Historical returns\")\n",
    "        for tick in self.ticks:\n",
    "            data = self.ticks[tick].history(period = 'YTD')\n",
    "            data['returns'] = data['Close'].pct_change()\n",
    "            plt.plot(data.index, data['returns'], label=tick)\n",
    "        plt.legend()\n",
    "        plt.show()\n",
    "    \n",
    "    # obtener info de la correlación entre los dos \n",
    "    def compare_ticks(self, tick1, tick2):\n",
    "        \n",
    "        # datos de los ticks\n",
    "        data_t1 =  self.ticks[tick1].history(period = 'YTD')\n",
    "        data_t1['returns'] = data_t1['Close'].pct_change()\n",
    "        data_t2 =  self.ticks[tick2].history(period = 'YTD')\n",
    "        data_t2['returns'] = data_t2['Close'].pct_change()\n",
    "        \n",
    "        # grafica\n",
    "        plt.figure(figsize = (10,8))\n",
    "        plt.title(f\"Correlation of returns between {tick1} and {tick2}\")\n",
    "        plt.xlabel(tick1)\n",
    "        plt.ylabel(tick2)\n",
    "        \n",
    "        plt.plot(data_t1['returns'],data_t2['returns'], 'o')\n",
    "        \n",
    "        plt.show()\n",
    "        \n",
    "        #correlation index\n",
    "        corr_index = data_t1['returns'].corr(data_t2['returns'])\n",
    "        \n",
    "        print(f\"The correlation index between {tick1} and {tick2} is :{corr_index}\")"
   ]
  },
  {
   "cell_type": "markdown",
   "id": "0d4a0546",
   "metadata": {},
   "source": [
    "#### Conexión con API: \n",
    "\n",
    "Download market data from Yahoo! Finance API"
   ]
  },
  {
   "cell_type": "code",
   "execution_count": 106,
   "id": "11b77482",
   "metadata": {},
   "outputs": [],
   "source": [
    "spy = yf.Ticker('SPY')"
   ]
  },
  {
   "cell_type": "code",
   "execution_count": 108,
   "id": "fb2cf43b",
   "metadata": {},
   "outputs": [],
   "source": [
    "# spy.info"
   ]
  },
  {
   "cell_type": "code",
   "execution_count": 92,
   "id": "01ea9ad3",
   "metadata": {
    "scrolled": true
   },
   "outputs": [],
   "source": [
    "# spy.history(period='YTD')"
   ]
  },
  {
   "cell_type": "markdown",
   "id": "a2071cec",
   "metadata": {},
   "source": [
    "#### Aplicación"
   ]
  },
  {
   "cell_type": "code",
   "execution_count": 93,
   "id": "4366db02",
   "metadata": {},
   "outputs": [],
   "source": [
    "parametros = {\n",
    "    'portfolio_name': 'BlankHall Portfolio',\n",
    "    'ticks': ['SPY', 'META', 'AMZN', 'TSLA', 'NVDA', 'LIT', 'URA']\n",
    "}"
   ]
  },
  {
   "cell_type": "code",
   "execution_count": 110,
   "id": "ef01d08f",
   "metadata": {},
   "outputs": [
    {
     "name": "stdout",
     "output_type": "stream",
     "text": [
      "Portafolio - BlankHall Portfolio - activo\n"
     ]
    }
   ],
   "source": [
    "port = Portafolio(parametros)\n",
    "port.download_ticks()"
   ]
  },
  {
   "cell_type": "code",
   "execution_count": 111,
   "id": "9916ee7b",
   "metadata": {},
   "outputs": [
    {
     "data": {
      "text/plain": [
       "Portafolio Inteligente para la Manipulación de Activos Financieros."
      ]
     },
     "execution_count": 111,
     "metadata": {},
     "output_type": "execute_result"
    }
   ],
   "source": [
    "port"
   ]
  },
  {
   "cell_type": "raw",
   "id": "08b6947f",
   "metadata": {},
   "source": [
    "Posibles acciones"
   ]
  },
  {
   "cell_type": "code",
   "execution_count": 109,
   "id": "f5fd415d",
   "metadata": {},
   "outputs": [],
   "source": [
    "# port.ticks['META'].history(period='YTD')\n",
    "# port.tick_value('AMZN')\n",
    "# port.ticks_values()\n",
    "# port.tick_return('AMZN')\n",
    "# port.ticks_returns()\n",
    "# port.compare_ticks('SPY', 'SPY')"
   ]
  }
 ],
 "metadata": {
  "kernelspec": {
   "display_name": "Python 3 (ipykernel)",
   "language": "python",
   "name": "python3"
  },
  "language_info": {
   "codemirror_mode": {
    "name": "ipython",
    "version": 3
   },
   "file_extension": ".py",
   "mimetype": "text/x-python",
   "name": "python",
   "nbconvert_exporter": "python",
   "pygments_lexer": "ipython3",
   "version": "3.8.5"
  }
 },
 "nbformat": 4,
 "nbformat_minor": 5
}
